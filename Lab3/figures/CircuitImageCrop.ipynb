{
 "cells": [
  {
   "cell_type": "code",
   "execution_count": 2,
   "metadata": {},
   "outputs": [],
   "source": [
    "from PIL import Image\n",
    "imageNames = [\"ExampleCircuitSchematic\", \"OpenCircuitSchematic\", \"ShortCircuitSchematic\"]\n",
    "for im in imageNames:\n",
    "    image = Image.open(im + \".PNG\")\n",
    "    image = image.crop((550,300,1350,800))\n",
    "    image.save(im + \"Crop.PNG\")"
   ]
  },
  {
   "cell_type": "code",
   "execution_count": 3,
   "metadata": {},
   "outputs": [],
   "source": [
    "graphNames = [\"ResultACAnalysis\", \"ResultDCAnalysis\", \"ResultTransientAnalysis\"]\n",
    "for gr in graphNames:\n",
    "    graph = Image.open(gr + \".PNG\")\n",
    "    graph = graph.crop((50,130,1905,872))\n",
    "    graph.save(gr + \"Crop.PNG\")"
   ]
  },
  {
   "cell_type": "code",
   "execution_count": 28,
   "metadata": {},
   "outputs": [],
   "source": [
    "analysis = [\"DC\", \"AC\", \"Transient\"]\n",
    "title = \"AnalysisCircuit\"\n",
    "for an in analysis :\n",
    "    anal = Image.open(an + title + \".PNG\")\n",
    "    anal = anal.crop((330,280,1150,720))\n",
    "    anal.save(an + title + \"Crop.PNG\")"
   ]
  }
 ],
 "metadata": {
  "kernelspec": {
   "display_name": "Python 3",
   "language": "python",
   "name": "python3"
  },
  "language_info": {
   "codemirror_mode": {
    "name": "ipython",
    "version": 3
   },
   "file_extension": ".py",
   "mimetype": "text/x-python",
   "name": "python",
   "nbconvert_exporter": "python",
   "pygments_lexer": "ipython3",
   "version": "3.7.4"
  }
 },
 "nbformat": 4,
 "nbformat_minor": 2
}
