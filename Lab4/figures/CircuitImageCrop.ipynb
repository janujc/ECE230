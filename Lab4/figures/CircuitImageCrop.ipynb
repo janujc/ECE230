{
 "cells": [
  {
   "cell_type": "markdown",
   "metadata": {},
   "source": [
    "# Analysis"
   ]
  },
  {
   "cell_type": "code",
   "execution_count": 1,
   "metadata": {},
   "outputs": [],
   "source": [
    "from PIL import Image\n",
    "graphNames = [\"ResultACAnalysis\", \"ResultDCAnalysis\", \"ResultTransientAnalysis\"]\n",
    "for gr in graphNames:\n",
    "    graph = Image.open(gr + \".PNG\")\n",
    "    graph = graph.crop((50,130,1905,872))\n",
    "    graph.save(gr + \"Crop.PNG\")"
   ]
  },
  {
   "cell_type": "code",
   "execution_count": 2,
   "metadata": {},
   "outputs": [],
   "source": [
    "analysis = [\"DC\", \"AC\", \"Transient\"]\n",
    "title = \"AnalysisCircuit\"\n",
    "for an in analysis :\n",
    "    anal = Image.open(an + title + \".PNG\")\n",
    "    anal = anal.crop((330,280,1150,720))\n",
    "    anal.save(an + title + \"Crop.PNG\")"
   ]
  },
  {
   "cell_type": "markdown",
   "metadata": {},
   "source": [
    "# Exploration"
   ]
  },
  {
   "cell_type": "code",
   "execution_count": 6,
   "metadata": {},
   "outputs": [],
   "source": [
    "imageNames = [\"ExampleCircuitSchematic\", \"OpenCircuitSchematic\", \"ShortCircuitSchematic\"]\n",
    "for im in imageNames:\n",
    "    image = Image.open(im + \".PNG\")\n",
    "    image = image.crop((570,300,1350,750))\n",
    "    image.save(im + \"Crop.PNG\")\n",
    "image = Image.open(\"TheveninEquivalentExample.PNG\")\n",
    "image = image.crop((550,325,1050,760))\n",
    "image.save(\"TheveninEquivalentExampleCrop.PNG\")"
   ]
  }
 ],
 "metadata": {
  "kernelspec": {
   "display_name": "Python 3",
   "language": "python",
   "name": "python3"
  },
  "language_info": {
   "codemirror_mode": {
    "name": "ipython",
    "version": 3
   },
   "file_extension": ".py",
   "mimetype": "text/x-python",
   "name": "python",
   "nbconvert_exporter": "python",
   "pygments_lexer": "ipython3",
   "version": "3.7.4"
  }
 },
 "nbformat": 4,
 "nbformat_minor": 2
}
