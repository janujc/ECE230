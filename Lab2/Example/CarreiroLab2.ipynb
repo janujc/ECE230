{
 "metadata": {
  "language_info": {
   "codemirror_mode": {
    "name": "ipython",
    "version": 3
   },
   "file_extension": ".py",
   "mimetype": "text/x-python",
   "name": "python",
   "nbconvert_exporter": "python",
   "pygments_lexer": "ipython3",
   "version": "3.8.3-final"
  },
  "orig_nbformat": 2,
  "kernelspec": {
   "name": "python_defaultSpec_1600287473463",
   "display_name": "Python 3.8.3 64-bit ('ProgramData': virtualenv)"
  }
 },
 "nbformat": 4,
 "nbformat_minor": 2,
 "cells": [
  {
   "cell_type": "code",
   "execution_count": 6,
   "metadata": {},
   "outputs": [],
   "source": [
    "from numpy import genfromtxt\n",
    "Wafer1Resistivity = genfromtxt('Wafer1Resistivity.csv', skip_header=1, delimiter=',')\n",
    "Wafer1SheetResistance = genfromtxt('Wafer1SheetResistance.csv', skip_header=1, delimiter=',')\n",
    "Wafer1Thickness = genfromtxt('Wafer1Thickness.csv', skip_header=1, delimiter=',')"
   ]
  },
  {
   "cell_type": "code",
   "execution_count": 7,
   "metadata": {
    "tags": []
   },
   "outputs": [
    {
     "output_type": "stream",
     "name": "stdout",
     "text": "[0.0121  0.0132  0.01347 0.01386 0.01266 0.0124  0.0144  0.0129  0.0119\n 0.01173 0.0116  0.0122  0.01324 0.01017 0.01214 0.0125  0.0105  0.0119\n 0.0135  0.01205 0.01528 0.01151 0.0119  0.01169 0.01283 0.01248 0.0122\n 0.01108 0.0132  0.01158 0.0132  0.0121  0.013   0.01281 0.00014 0.01249\n 0.01173 0.01368 0.01289 0.01458 0.01298 0.0107  0.013   0.01263 0.0119\n 0.0132  0.01246 0.0133  0.0113  0.0132  0.0131  0.01151 0.0128  0.0128 ]\n"
    }
   ],
   "source": [
    "print(Wafer1Resistivity)"
   ]
  },
  {
   "cell_type": "code",
   "execution_count": null,
   "metadata": {},
   "outputs": [],
   "source": []
  }
 ]
}